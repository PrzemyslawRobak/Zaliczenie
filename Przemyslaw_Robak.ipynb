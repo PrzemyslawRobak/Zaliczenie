{
 "cells": [
  {
   "cell_type": "markdown",
   "id": "110f797b",
   "metadata": {},
   "source": [
    "![spark](https://www.dataversity.net/wp-content/uploads/2015/06/spark-logo.png)"
   ]
  },
  {
   "cell_type": "markdown",
   "id": "8ba2d62d",
   "metadata": {},
   "source": [
    "# Krótkie wprowadzenie"
   ]
  },
  {
   "cell_type": "markdown",
   "id": "1c52f894",
   "metadata": {},
   "source": [
    "## Spark"
   ]
  },
  {
   "cell_type": "markdown",
   "id": "b3235148",
   "metadata": {},
   "source": [
    "Apache Spark to silnik do przetwarzania danych. Umożliwia on przetwarzanie danych w klastrze komputerów. Obecnie jest jednym z najpopularniejszych narzędzi do Big Data. Obsługuje wiele języków programowania (Python, Java, Scala i R)."
   ]
  },
  {
   "cell_type": "markdown",
   "id": "224f7ae9",
   "metadata": {},
   "source": [
    "## Główne zalety"
   ]
  },
  {
   "cell_type": "markdown",
   "id": "6a91ca30",
   "metadata": {},
   "source": [
    "- Szybkość – potrafi być nawet 100 szybszy niż Hadoop MapReduce\n",
    "- Wsparcie analizy danych – Spark zawiera narzędzia i biblioteki umożliwiające przesyłanie strumieniowe, uczenie maszynowe (MLlib), tworzenie zapytań SQL, grupowanie i łączenie danych"
   ]
  },
  {
   "cell_type": "markdown",
   "id": "0b05cf64",
   "metadata": {},
   "source": [
    "## RDD - Resilient Distributed Dataset"
   ]
  },
  {
   "cell_type": "markdown",
   "id": "8ebb178e",
   "metadata": {},
   "source": [
    "RDD jest rozproszoną kolekcją umieszczoną w pamięci na węzłach przetwarzających. RDD wspiera in-memory processing computation. Na RDD można przeprowadzać operacje transformacji takie jak map, filter czy reduce – w wyniku otrzymujemy nowy RDD zawierający przekształcone dane. Wynika również z tego, że kolekcja RDD jest niezmienna, a dodatkowo operacje tworzące RDD są “leniwe”, to znaczy wykonanie ich w zaprogramowanym łańcuchu następuje dopiero w momencie wykonania kolejnej operacji nie zwracającej RDD."
   ]
  },
  {
   "cell_type": "markdown",
   "id": "b149ebcf",
   "metadata": {},
   "source": [
    "# Przykłady przetwarzania danych"
   ]
  },
  {
   "cell_type": "markdown",
   "id": "b214ded5",
   "metadata": {},
   "source": [
    "## Najpierw przygotowujemy środowisko do pracy ze Sparkiem w Pythonie"
   ]
  },
  {
   "cell_type": "code",
   "execution_count": 1,
   "id": "bd4a6f93",
   "metadata": {},
   "outputs": [],
   "source": [
    "import findspark\n",
    "findspark.init()\n",
    "\n"
   ]
  },
  {
   "cell_type": "markdown",
   "id": "499cd411",
   "metadata": {},
   "source": []
  },
  {
   "cell_type": "code",
   "execution_count": 2,
   "id": "a67ccbc5",
   "metadata": {},
   "outputs": [],
   "source": [
    "import pyspark"
   ]
  },
  {
   "cell_type": "code",
   "execution_count": 3,
   "id": "9fca9c37",
   "metadata": {},
   "outputs": [],
   "source": [
    "from pyspark.sql import SparkSession"
   ]
  },
  {
   "cell_type": "code",
   "execution_count": 4,
   "id": "3ef74497",
   "metadata": {},
   "outputs": [
    {
     "data": {
      "text/html": [
       "\n",
       "        <div>\n",
       "            <p><b>SparkContext</b></p>\n",
       "\n",
       "            <p><a href=\"http://10.9.18.84:4040\">Spark UI</a></p>\n",
       "\n",
       "            <dl>\n",
       "              <dt>Version</dt>\n",
       "                <dd><code>v3.2.1</code></dd>\n",
       "              <dt>Master</dt>\n",
       "                <dd><code>local[*]</code></dd>\n",
       "              <dt>AppName</dt>\n",
       "                <dd><code>test</code></dd>\n",
       "            </dl>\n",
       "        </div>\n",
       "        "
      ],
      "text/plain": [
       "<SparkContext master=local[*] appName=test>"
      ]
     },
     "execution_count": 4,
     "metadata": {},
     "output_type": "execute_result"
    }
   ],
   "source": [
    "spark = SparkSession.builder.appName(\"test\").getOrCreate()\n",
    "sc = spark.sparkContext\n",
    "sc"
   ]
  },
  {
   "cell_type": "markdown",
   "id": "c694d541",
   "metadata": {},
   "source": [
    "## Pierwszy przykłd - kilka operacji na liczbach"
   ]
  },
  {
   "cell_type": "markdown",
   "id": "75d01f8d",
   "metadata": {},
   "source": [
    "Tworzymy listę iczb od 0 do 1 000 000."
   ]
  },
  {
   "cell_type": "code",
   "execution_count": 5,
   "id": "b085634f",
   "metadata": {},
   "outputs": [],
   "source": [
    "nums = list(range(0, 1000001))"
   ]
  },
  {
   "cell_type": "markdown",
   "id": "2cf04327",
   "metadata": {},
   "source": [
    "Teraz za pomocą funkcji parallelize zapiszemy te dane jako RDD i będziemy już mogli wykonywać na nich operacje\n",
    "przy użyciu Spark'a."
   ]
  },
  {
   "cell_type": "code",
   "execution_count": 6,
   "id": "1bc58ef5",
   "metadata": {},
   "outputs": [
    {
     "data": {
      "text/plain": [
       "ParallelCollectionRDD[0] at readRDDFromFile at PythonRDD.scala:274"
      ]
     },
     "execution_count": 6,
     "metadata": {},
     "output_type": "execute_result"
    }
   ],
   "source": [
    "nums_rdd = sc.parallelize(nums)\n",
    "nums_rdd"
   ]
  },
  {
   "cell_type": "markdown",
   "id": "3ff3e304",
   "metadata": {},
   "source": [
    "Możemy podejrzeć kilka pierwszych pozycji na naszej liście."
   ]
  },
  {
   "cell_type": "code",
   "execution_count": 7,
   "id": "039528de",
   "metadata": {},
   "outputs": [
    {
     "data": {
      "text/plain": [
       "[0, 1, 2, 3, 4]"
      ]
     },
     "execution_count": 7,
     "metadata": {},
     "output_type": "execute_result"
    }
   ],
   "source": [
    "nums_rdd.take(5) # wyświetlamy 5 pierwszych liczb"
   ]
  },
  {
   "cell_type": "markdown",
   "id": "27c7e19e",
   "metadata": {},
   "source": [
    "Używając funkcji ***map*** możemy wykonywać operacje na elementach listy."
   ]
  },
  {
   "cell_type": "code",
   "execution_count": 8,
   "id": "b72db01e",
   "metadata": {},
   "outputs": [
    {
     "data": {
      "text/plain": [
       "[0, 1, 4, 9, 16, 25, 36, 49, 64, 81]"
      ]
     },
     "execution_count": 8,
     "metadata": {},
     "output_type": "execute_result"
    }
   ],
   "source": [
    "squared_nums_rdd = nums_rdd.map(lambda x: x ** 2) # podnosimy każdy element z listy do kwadratu \n",
    "squared_nums_rdd.take(10)"
   ]
  },
  {
   "cell_type": "code",
   "execution_count": 9,
   "id": "96ff0620",
   "metadata": {},
   "outputs": [
    {
     "data": {
      "text/plain": [
       "[(0, 1),\n",
       " (1, 1),\n",
       " (4, 1),\n",
       " (9, 1),\n",
       " (16, 2),\n",
       " (25, 2),\n",
       " (36, 2),\n",
       " (49, 2),\n",
       " (64, 2),\n",
       " (81, 2),\n",
       " (100, 3),\n",
       " (121, 3),\n",
       " (144, 3),\n",
       " (169, 3),\n",
       " (196, 3)]"
      ]
     },
     "execution_count": 9,
     "metadata": {},
     "output_type": "execute_result"
    }
   ],
   "source": [
    "pairs = squared_nums_rdd.map(lambda x: (x, len(str(x)))) # tworzymy pary obserwacji (liczba, liczba cyfr w liczbie)\n",
    "pairs.take(15)"
   ]
  },
  {
   "cell_type": "markdown",
   "id": "479eb9f4",
   "metadata": {},
   "source": [
    "Używając funkcji ***filter*** możemy filtrować nasze dane."
   ]
  },
  {
   "cell_type": "code",
   "execution_count": 10,
   "id": "ba4f11dc",
   "metadata": {},
   "outputs": [
    {
     "data": {
      "text/plain": [
       "[(16, 2),\n",
       " (25, 2),\n",
       " (36, 2),\n",
       " (49, 2),\n",
       " (64, 2),\n",
       " (81, 2),\n",
       " (1024, 4),\n",
       " (1089, 4),\n",
       " (1156, 4),\n",
       " (1225, 4),\n",
       " (1296, 4),\n",
       " (1369, 4),\n",
       " (1444, 4),\n",
       " (1521, 4),\n",
       " (1600, 4)]"
      ]
     },
     "execution_count": 10,
     "metadata": {},
     "output_type": "execute_result"
    }
   ],
   "source": [
    "even_pairs = pairs.filter(lambda x: x[1] % 2 == 0) # zostawiamy tylko pary z parzystą liczbą cyfr w liczbie\n",
    "even_pairs.take(15)"
   ]
  },
  {
   "cell_type": "markdown",
   "id": "cfa4e439",
   "metadata": {},
   "source": [
    "Pary te traktowane są jako pary **(klucz, wartość)**, chcemy żeby liczba cyfr w liczbie spełniała u nas funkcje klucza,\n",
    "dlatego zamienimy pozycje w tych parach."
   ]
  },
  {
   "cell_type": "code",
   "execution_count": 11,
   "id": "7908b238",
   "metadata": {},
   "outputs": [
    {
     "data": {
      "text/plain": [
       "[(2, 16),\n",
       " (2, 25),\n",
       " (2, 36),\n",
       " (2, 49),\n",
       " (2, 64),\n",
       " (2, 81),\n",
       " (4, 1024),\n",
       " (4, 1089),\n",
       " (4, 1156),\n",
       " (4, 1225),\n",
       " (4, 1296),\n",
       " (4, 1369),\n",
       " (4, 1444),\n",
       " (4, 1521),\n",
       " (4, 1600)]"
      ]
     },
     "execution_count": 11,
     "metadata": {},
     "output_type": "execute_result"
    }
   ],
   "source": [
    "flipped_pairs = even_pairs.map(lambda x: (int(x[1]), x[0])) # zamiana pozycji liczby i liczby cyfr w parze, \n",
    "                                                            # teraz liczba cyfr będzie kluczem\n",
    "flipped_pairs.take(15)"
   ]
  },
  {
   "cell_type": "markdown",
   "id": "86ac662c",
   "metadata": {},
   "source": [
    "Z pomocą Sparka możemy w prosty sposób grupować i sortować dane."
   ]
  },
  {
   "cell_type": "markdown",
   "id": "f616c8bf",
   "metadata": {},
   "source": [
    "Pogrupujemy nasze dane po kluczu wykorzystując funkcję ***groupByKey***."
   ]
  },
  {
   "cell_type": "code",
   "execution_count": 12,
   "id": "c7ae68fb",
   "metadata": {},
   "outputs": [
    {
     "data": {
      "text/plain": [
       "[(8, <pyspark.resultiterable.ResultIterable at 0x1cb89cbdfd0>),\n",
       " (2, <pyspark.resultiterable.ResultIterable at 0x1cb89e08730>),\n",
       " (10, <pyspark.resultiterable.ResultIterable at 0x1cb89e08940>),\n",
       " (4, <pyspark.resultiterable.ResultIterable at 0x1cb89e08910>),\n",
       " (12, <pyspark.resultiterable.ResultIterable at 0x1cb89e089d0>),\n",
       " (6, <pyspark.resultiterable.ResultIterable at 0x1cb8e79d070>)]"
      ]
     },
     "execution_count": 12,
     "metadata": {},
     "output_type": "execute_result"
    }
   ],
   "source": [
    "grouped_pairs = flipped_pairs.groupByKey() # grupujemy dane po naszym kluczu (liczba cyfr)\n",
    "grouped_pairs.collect()"
   ]
  },
  {
   "cell_type": "markdown",
   "id": "6f2bd31f",
   "metadata": {},
   "source": [
    "Jak widać dane zostały pogrupowane, jednak żeby mieć lepszy pogląd na to jak one wyglądają, przekonwertujemy wynik tego grupowania na parę **(klucz, lista liczb)**."
   ]
  },
  {
   "cell_type": "code",
   "execution_count": 13,
   "id": "8ed6807d",
   "metadata": {},
   "outputs": [],
   "source": [
    "grouped_pairs = grouped_pairs.map(lambda x: (x[0], list(x[1])))"
   ]
  },
  {
   "cell_type": "markdown",
   "id": "5a2c9a86",
   "metadata": {},
   "source": [
    "Teraz posiadamy listę par w których pierwsza wartość to liczba cyfr, a druga to lista skłądająca się z n-cyfrowych liczb."
   ]
  },
  {
   "cell_type": "markdown",
   "id": "b94ff82f",
   "metadata": {},
   "source": [
    "Wyżej widać, że nasza lista nie jest posortowana, więc przed jej wyświetlenie posortujemy wyniki rosnąco używając funkcji ***sortByKey***."
   ]
  },
  {
   "cell_type": "code",
   "execution_count": 14,
   "id": "d69147ef",
   "metadata": {},
   "outputs": [
    {
     "data": {
      "text/plain": [
       "[(2, [16, 25, 36, 49, 64, 81]),\n",
       " (4,\n",
       "  [1024,\n",
       "   1089,\n",
       "   1156,\n",
       "   1225,\n",
       "   1296,\n",
       "   1369,\n",
       "   1444,\n",
       "   1521,\n",
       "   1600,\n",
       "   1681,\n",
       "   1764,\n",
       "   1849,\n",
       "   1936,\n",
       "   2025,\n",
       "   2116,\n",
       "   2209,\n",
       "   2304,\n",
       "   2401,\n",
       "   2500,\n",
       "   2601,\n",
       "   2704,\n",
       "   2809,\n",
       "   2916,\n",
       "   3025,\n",
       "   3136,\n",
       "   3249,\n",
       "   3364,\n",
       "   3481,\n",
       "   3600,\n",
       "   3721,\n",
       "   3844,\n",
       "   3969,\n",
       "   4096,\n",
       "   4225,\n",
       "   4356,\n",
       "   4489,\n",
       "   4624,\n",
       "   4761,\n",
       "   4900,\n",
       "   5041,\n",
       "   5184,\n",
       "   5329,\n",
       "   5476,\n",
       "   5625,\n",
       "   5776,\n",
       "   5929,\n",
       "   6084,\n",
       "   6241,\n",
       "   6400,\n",
       "   6561,\n",
       "   6724,\n",
       "   6889,\n",
       "   7056,\n",
       "   7225,\n",
       "   7396,\n",
       "   7569,\n",
       "   7744,\n",
       "   7921,\n",
       "   8100,\n",
       "   8281,\n",
       "   8464,\n",
       "   8649,\n",
       "   8836,\n",
       "   9025,\n",
       "   9216,\n",
       "   9409,\n",
       "   9604,\n",
       "   9801])]"
      ]
     },
     "execution_count": 14,
     "metadata": {},
     "output_type": "execute_result"
    }
   ],
   "source": [
    "grouped_pairs = grouped_pairs.sortByKey(ascending= True) # sortujemy rosnąco według liczby cyfr w liczbie\n",
    "grouped_pairs.take(2) # wyświetlamy tylko 2 pierwsz pozycję, ponieważ zajmuje to trochę miejsca"
   ]
  },
  {
   "cell_type": "markdown",
   "id": "998376ac",
   "metadata": {},
   "source": [
    "Na koniec możemy sprawdzić ile liczb występuje w każdej z naszych kategorii."
   ]
  },
  {
   "cell_type": "code",
   "execution_count": 15,
   "id": "c9d5acd8",
   "metadata": {},
   "outputs": [
    {
     "data": {
      "text/plain": [
       "[(2, 6), (4, 68), (6, 683), (8, 6837), (10, 68377), (12, 683772)]"
      ]
     },
     "execution_count": 15,
     "metadata": {},
     "output_type": "execute_result"
    }
   ],
   "source": [
    "how_many_numbers = grouped_pairs.map(lambda x: (x[0], len(x[1]))) # lista par - (liczba cyfr, ile taich liczb po naszych operacjach)\n",
    "how_many_numbers.collect()"
   ]
  },
  {
   "cell_type": "markdown",
   "id": "1b0c32e5",
   "metadata": {},
   "source": [
    "Jak widać po wykonanych przez nas operacjach na naszej liście zostało 6 liczb dwucyfrowych, 68 czterocyfrowych itd."
   ]
  },
  {
   "cell_type": "markdown",
   "id": "52a3fd41",
   "metadata": {},
   "source": [
    "## Drugi przykład - liczenie słów"
   ]
  },
  {
   "cell_type": "markdown",
   "id": "c5cba301",
   "metadata": {},
   "source": [
    "Do tego przykładu pobrałem plik tesktowy w języku angielskim."
   ]
  },
  {
   "cell_type": "markdown",
   "id": "dcc6d767",
   "metadata": {},
   "source": [
    "Wczytujemy nasz tekst."
   ]
  },
  {
   "cell_type": "code",
   "execution_count": 16,
   "id": "c5ab7254",
   "metadata": {},
   "outputs": [],
   "source": [
    "text = sc.textFile(\"tekst.txt\")"
   ]
  },
  {
   "cell_type": "markdown",
   "id": "88cded54",
   "metadata": {},
   "source": [
    "Możemy go teraz wyśietlić."
   ]
  },
  {
   "cell_type": "code",
   "execution_count": 17,
   "id": "245424db",
   "metadata": {},
   "outputs": [
    {
     "data": {
      "text/plain": [
       "['word count from Wikipedia the free encyclopedia',\n",
       " 'the word count is the number of words in a document or passage of text Word counting may be needed when a text',\n",
       " 'is required to stay within certain numbers of words This may particularly be the case in academia legal',\n",
       " 'proceedings journalism and advertising Word count is commonly used by translators to determine the price for',\n",
       " 'the translation job Word counts may also be used to calculate measures of readability and to measure typing',\n",
       " 'and reading speeds usually in words per minute When converting character counts to words a measure of five or',\n",
       " 'six characters to a word is generally used Contents Details and variations of definition Software In fiction',\n",
       " 'In non fiction See also References Sources External links Details and variations of definition',\n",
       " 'This section does not cite any references or sources Please help improve this section by adding citations to',\n",
       " 'reliable sources Unsourced material may be challenged and removed',\n",
       " 'Variations in the operational definitions of how to count the words can occur namely what counts as a word and',\n",
       " \"which words don't count toward the total However especially since the advent of widespread word processing there\",\n",
       " 'is a broad consensus on these operational definitions and hence the bottom line integer result',\n",
       " 'The consensus is to accept the text segmentation rules generally found in most word processing software including how',\n",
       " 'word boundaries are determined which depends on how word dividers are defined The first trait of that definition is that a space any of various whitespace',\n",
       " 'characters such as a regular word space an em space or a tab character is a word divider Usually a hyphen or a slash is too',\n",
       " 'Different word counting programs may give varying results depending on the text segmentation rule',\n",
       " 'details and on whether words outside the main text such as footnotes endnotes or hidden text) are counted But the behavior',\n",
       " 'of most major word processing applications is broadly similar However during the era when school assignments were done in',\n",
       " 'handwriting or with typewriters the rules for these definitions often differed from todays consensus',\n",
       " \"Most importantly many students were drilled on the rule that certain words don't count usually articles namely a an the but\",\n",
       " 'sometimes also others such as conjunctions for example and or but and some prepositions usually to of Hyphenated permanent',\n",
       " 'compounds such as follow up noun or long term adjective were counted as one word To save the time and effort of counting',\n",
       " 'word by word often a rule of thumb for the average number of words per line was used such as 10 words per line These rules',\n",
       " 'have fallen by the wayside in the word processing era the word count feature of such software which follows the text',\n",
       " 'segmentation rules mentioned earlier is now the standard arbiter because it is largely consistent across documents and',\n",
       " 'applications and because it is fast effortless and costless already included with the application As for which sections of',\n",
       " 'a document count toward the total such as footnotes endnotes abstracts reference lists and bibliographies tables figure',\n",
       " 'captions hidden text the person in charge teacher client can define their choice and users students workers can simply',\n",
       " 'select or exclude the elements accordingly and watch the word count automatically update Software Modern web browsers',\n",
       " 'support word counting via extensions via a JavaScript bookmarklet or a script that is hosted in a website Most word',\n",
       " 'processors can also count words Unix like systems include a program wc specifically for word counting',\n",
       " 'As explained earlier different word counting programs may give varying results depending on the text segmentation rule',\n",
       " 'details The exact number of words often is not a strict requirement thus the variation is acceptable',\n",
       " 'In fiction Novelist Jane Smiley suggests that length is an important quality of the novel However novels can vary',\n",
       " 'tremendously in length Smiley lists novels as typically being between and words while National Novel Writing Month',\n",
       " 'requires its novels to be at least words There are no firm rules for example the boundary between a novella and a novel',\n",
       " 'is arbitrary and a literary work may be difficult to categorise But while the length of a novel is to a large extent up',\n",
       " 'to its writer lengths may also vary by subgenre many chapter books for children start at a length of about words and a',\n",
       " 'typical mystery novel might be in the to word range while a thriller could be over words',\n",
       " 'The Science Fiction and Fantasy Writers of America specifies word lengths for each category of its Nebula award categories',\n",
       " 'Classification\\tWord count Novel over words Novella to words Novelette to words Short story under words',\n",
       " 'In non fiction The acceptable length of an academic dissertation varies greatly dependent predominantly on the subject',\n",
       " 'Numerous American universities limit Ph.D. dissertations to at most words barring special permission for exceeding this limit']"
      ]
     },
     "execution_count": 17,
     "metadata": {},
     "output_type": "execute_result"
    }
   ],
   "source": [
    "text.collect()"
   ]
  },
  {
   "cell_type": "markdown",
   "id": "b311599f",
   "metadata": {},
   "source": [
    "Jak widać każda linjka traktowana jest jaka osobny string."
   ]
  },
  {
   "cell_type": "markdown",
   "id": "0742fb4f",
   "metadata": {},
   "source": [
    "Możemy zliczyć te linijki za pomocą funkcji ***count***."
   ]
  },
  {
   "cell_type": "code",
   "execution_count": 18,
   "id": "48a3962a",
   "metadata": {},
   "outputs": [
    {
     "data": {
      "text/plain": [
       "44"
      ]
     },
     "execution_count": 18,
     "metadata": {},
     "output_type": "execute_result"
    }
   ],
   "source": [
    "text.count()"
   ]
  },
  {
   "cell_type": "markdown",
   "id": "aa10cfc4",
   "metadata": {},
   "source": [
    "Używajac funkcji ***map***, a wewnątrz niej funkcji języka python ***split*** możey rozdzielić pojedyńcze wyrazy."
   ]
  },
  {
   "cell_type": "code",
   "execution_count": 19,
   "id": "e6ced485",
   "metadata": {},
   "outputs": [
    {
     "data": {
      "text/plain": [
       "[['word count from Wikipedia the free encyclopedia'],\n",
       " ['the word count is the number of words in a document or passage of text Word counting may be needed when a text']]"
      ]
     },
     "execution_count": 19,
     "metadata": {},
     "output_type": "execute_result"
    }
   ],
   "source": [
    "text2 = text.map(lambda x: x.split(\"\\t\"))\n",
    "text2.take(2)\n"
   ]
  },
  {
   "cell_type": "code",
   "execution_count": 20,
   "id": "37da94a0",
   "metadata": {},
   "outputs": [
    {
     "data": {
      "text/plain": [
       "[['word', 'count', 'from', 'Wikipedia', 'the', 'free', 'encyclopedia'],\n",
       " ['the',\n",
       "  'word',\n",
       "  'count',\n",
       "  'is',\n",
       "  'the',\n",
       "  'number',\n",
       "  'of',\n",
       "  'words',\n",
       "  'in',\n",
       "  'a',\n",
       "  'document',\n",
       "  'or',\n",
       "  'passage',\n",
       "  'of',\n",
       "  'text',\n",
       "  'Word',\n",
       "  'counting',\n",
       "  'may',\n",
       "  'be',\n",
       "  'needed',\n",
       "  'when',\n",
       "  'a',\n",
       "  'text']]"
      ]
     },
     "execution_count": 20,
     "metadata": {},
     "output_type": "execute_result"
    }
   ],
   "source": [
    "words = text2.map(lambda x: x[0].split(\" \"))\n",
    "words.take(2)"
   ]
  },
  {
   "cell_type": "markdown",
   "id": "c92b3333",
   "metadata": {},
   "source": [
    "Jak widać wyrazy zostały rozdzielone, jednak zamiast jednej listy wyrazów mamy listę składającą się z list wyrazów, które zostały utworzone dla każdej lnijki tekstu."
   ]
  },
  {
   "cell_type": "markdown",
   "id": "1e96d039",
   "metadata": {},
   "source": [
    "Możemy je jednak łatwo \"rozpakować\" korzystając z funkcji ***flatMap***, ja przy okazji postanowiłem, że nie chcę rozróżniać wyrazów pisanych z małej i wielkiej liter, więc skorzystałem z funkji ***lower***."
   ]
  },
  {
   "cell_type": "code",
   "execution_count": 21,
   "id": "9b3a4233",
   "metadata": {},
   "outputs": [
    {
     "data": {
      "text/plain": [
       "['word',\n",
       " 'count',\n",
       " 'from',\n",
       " 'wikipedia',\n",
       " 'the',\n",
       " 'free',\n",
       " 'encyclopedia',\n",
       " 'the',\n",
       " 'word',\n",
       " 'count',\n",
       " 'is',\n",
       " 'the',\n",
       " 'number',\n",
       " 'of',\n",
       " 'words',\n",
       " 'in',\n",
       " 'a',\n",
       " 'document',\n",
       " 'or',\n",
       " 'passage',\n",
       " 'of',\n",
       " 'text',\n",
       " 'word',\n",
       " 'counting',\n",
       " 'may',\n",
       " 'be',\n",
       " 'needed',\n",
       " 'when',\n",
       " 'a',\n",
       " 'text']"
      ]
     },
     "execution_count": 21,
     "metadata": {},
     "output_type": "execute_result"
    }
   ],
   "source": [
    "listOfWords = words.flatMap(lambda x: x).map(lambda x: x.lower())\n",
    "listOfWords.take(30)"
   ]
  },
  {
   "cell_type": "markdown",
   "id": "f5c0688f",
   "metadata": {},
   "source": [
    "Teraz mamy już jedną listę sładającą się z pojedyńczych słów."
   ]
  },
  {
   "cell_type": "markdown",
   "id": "fc644209",
   "metadata": {},
   "source": [
    "Używając funkcji ***map*** i ***reduceByKey*** możemy policzyć ile razy w tekście wystąpiło każde słowo. Njapierw wykorzystując funkcję ***map*** tworzymy dla każdego słowa parę **(słowo, 1)**. Następnie powstałą listę par grupujmey po kluczu **(słowie)** z wykorzystaniem funkcji ***reduceByKey***, która pozwala nam określić co ma się stać z wartościami do nich przypisanymi (my dodajemy je do siebię, czyli sumujemy wcześniej dodane 1-nki, co daje nam liczbę wystąpień każdego słowa). "
   ]
  },
  {
   "cell_type": "code",
   "execution_count": 22,
   "id": "1c25d3d7",
   "metadata": {},
   "outputs": [
    {
     "data": {
      "text/plain": [
       "[('count', 10),\n",
       " ('wikipedia', 1),\n",
       " ('free', 1),\n",
       " ('is', 19),\n",
       " ('of', 25),\n",
       " ('in', 15),\n",
       " ('counting', 6),\n",
       " ('may', 8),\n",
       " ('needed', 1),\n",
       " ('when', 3),\n",
       " ('certain', 2),\n",
       " ('numbers', 1),\n",
       " ('this', 4),\n",
       " ('particularly', 1),\n",
       " ('legal', 1),\n",
       " ('used', 4),\n",
       " ('price', 1),\n",
       " ('job', 1),\n",
       " ('counts', 3),\n",
       " ('calculate', 1),\n",
       " ('readability', 1),\n",
       " ('measure', 2),\n",
       " ('typing', 1),\n",
       " ('speeds', 1),\n",
       " ('converting', 1),\n",
       " ('characters', 2),\n",
       " ('contents', 1),\n",
       " ('details', 4),\n",
       " ('references', 2),\n",
       " ('external', 1)]"
      ]
     },
     "execution_count": 22,
     "metadata": {},
     "output_type": "execute_result"
    }
   ],
   "source": [
    "words_frequency = listOfWords.map(lambda x: (x, 1))\\\n",
    "                  .reduceByKey(lambda x,y: x+y)\n",
    "words_frequency.take(30)"
   ]
  },
  {
   "cell_type": "markdown",
   "id": "19f8ed6b",
   "metadata": {},
   "source": [
    "Na koniec możemy posortować nasze słowa od największej do najmniejszej liczy wystąpień i wyświetlić pełną listę"
   ]
  },
  {
   "cell_type": "markdown",
   "id": "1339fbd8",
   "metadata": {},
   "source": [
    "Moglibyśmy zamienić miejscami, słowo i liczbę wystąpień tak jak zrobliśmy w poprzednim przykładzie z liczbami, aby wykorzystać funkcję ***sortByKey***. Jednak w tym przpadku chemy, żeby układ był nastęujacy **(słowo, liczba wystąień)**. Wykorzystamy więc funkcję ***SortBy*** i ustawimy ją tak, by sortowała po liczbie wystąpień."
   ]
  },
  {
   "cell_type": "code",
   "execution_count": 23,
   "id": "d394c0bf",
   "metadata": {},
   "outputs": [
    {
     "data": {
      "text/plain": [
       "[('the', 43),\n",
       " ('a', 28),\n",
       " ('word', 27),\n",
       " ('of', 25),\n",
       " ('and', 23),\n",
       " ('is', 19),\n",
       " ('words', 17),\n",
       " ('to', 17),\n",
       " ('in', 15),\n",
       " ('as', 11),\n",
       " ('or', 11),\n",
       " ('count', 10),\n",
       " ('for', 10),\n",
       " ('may', 8),\n",
       " ('text', 8),\n",
       " ('be', 8),\n",
       " ('on', 7),\n",
       " ('such', 7),\n",
       " ('counting', 6),\n",
       " ('rules', 5),\n",
       " ('length', 5),\n",
       " ('novel', 5),\n",
       " ('by', 5),\n",
       " ('also', 5),\n",
       " ('fiction', 5),\n",
       " ('can', 5),\n",
       " ('most', 5),\n",
       " ('that', 5),\n",
       " ('this', 4),\n",
       " ('used', 4),\n",
       " ('details', 4),\n",
       " ('are', 4),\n",
       " ('an', 4),\n",
       " ('rule', 4),\n",
       " ('but', 4),\n",
       " ('usually', 4),\n",
       " ('software', 4),\n",
       " ('which', 4),\n",
       " ('processing', 4),\n",
       " ('segmentation', 4),\n",
       " ('when', 3),\n",
       " ('counts', 3),\n",
       " ('however', 3),\n",
       " ('these', 3),\n",
       " ('line', 3),\n",
       " ('space', 3),\n",
       " ('at', 3),\n",
       " ('number', 3),\n",
       " ('per', 3),\n",
       " ('variations', 3),\n",
       " ('definition', 3),\n",
       " ('sources', 3),\n",
       " ('definitions', 3),\n",
       " ('how', 3),\n",
       " ('consensus', 3),\n",
       " ('were', 3),\n",
       " ('often', 3),\n",
       " ('novels', 3),\n",
       " ('while', 3),\n",
       " ('its', 3),\n",
       " ('certain', 2),\n",
       " ('measure', 2),\n",
       " ('characters', 2),\n",
       " ('references', 2),\n",
       " ('namely', 2),\n",
       " ('toward', 2),\n",
       " ('there', 2),\n",
       " ('different', 2),\n",
       " ('programs', 2),\n",
       " ('give', 2),\n",
       " ('results', 2),\n",
       " ('depending', 2),\n",
       " ('footnotes', 2),\n",
       " ('hidden', 2),\n",
       " ('via', 2),\n",
       " ('smiley', 2),\n",
       " ('from', 2),\n",
       " ('document', 2),\n",
       " ('character', 2),\n",
       " ('generally', 2),\n",
       " ('non', 2),\n",
       " ('section', 2),\n",
       " ('not', 2),\n",
       " ('any', 2),\n",
       " ('operational', 2),\n",
       " (\"don't\", 2),\n",
       " ('total', 2),\n",
       " ('varying', 2),\n",
       " ('endnotes', 2),\n",
       " ('counted', 2),\n",
       " ('applications', 2),\n",
       " ('era', 2),\n",
       " ('with', 2),\n",
       " ('many', 2),\n",
       " ('students', 2),\n",
       " ('example', 2),\n",
       " ('up', 2),\n",
       " ('earlier', 2),\n",
       " ('because', 2),\n",
       " ('it', 2),\n",
       " ('lists', 2),\n",
       " ('acceptable', 2),\n",
       " ('vary', 2),\n",
       " ('between', 2),\n",
       " ('lengths', 2),\n",
       " ('limit', 2),\n",
       " ('wikipedia', 1),\n",
       " ('free', 1),\n",
       " ('needed', 1),\n",
       " ('numbers', 1),\n",
       " ('particularly', 1),\n",
       " ('legal', 1),\n",
       " ('price', 1),\n",
       " ('job', 1),\n",
       " ('calculate', 1),\n",
       " ('readability', 1),\n",
       " ('typing', 1),\n",
       " ('speeds', 1),\n",
       " ('converting', 1),\n",
       " ('contents', 1),\n",
       " ('external', 1),\n",
       " ('links', 1),\n",
       " ('help', 1),\n",
       " ('improve', 1),\n",
       " ('material', 1),\n",
       " ('removed', 1),\n",
       " ('occur', 1),\n",
       " ('especially', 1),\n",
       " ('advent', 1),\n",
       " ('widespread', 1),\n",
       " ('broad', 1),\n",
       " ('integer', 1),\n",
       " ('result', 1),\n",
       " ('determined', 1),\n",
       " ('depends', 1),\n",
       " ('dividers', 1),\n",
       " ('defined', 1),\n",
       " ('whitespace', 1),\n",
       " ('regular', 1),\n",
       " ('em', 1),\n",
       " ('divider', 1),\n",
       " ('slash', 1),\n",
       " ('behavior', 1),\n",
       " ('major', 1),\n",
       " ('similar', 1),\n",
       " ('during', 1),\n",
       " ('school', 1),\n",
       " ('assignments', 1),\n",
       " ('handwriting', 1),\n",
       " ('differed', 1),\n",
       " ('sometimes', 1),\n",
       " ('others', 1),\n",
       " ('permanent', 1),\n",
       " ('noun', 1),\n",
       " ('long', 1),\n",
       " ('term', 1),\n",
       " ('adjective', 1),\n",
       " ('save', 1),\n",
       " ('thumb', 1),\n",
       " ('was', 1),\n",
       " ('10', 1),\n",
       " ('have', 1),\n",
       " ('feature', 1),\n",
       " ('follows', 1),\n",
       " ('now', 1),\n",
       " ('arbiter', 1),\n",
       " ('consistent', 1),\n",
       " ('documents', 1),\n",
       " ('already', 1),\n",
       " ('sections', 1),\n",
       " ('abstracts', 1),\n",
       " ('reference', 1),\n",
       " ('bibliographies', 1),\n",
       " ('figure', 1),\n",
       " ('captions', 1),\n",
       " ('person', 1),\n",
       " ('charge', 1),\n",
       " ('select', 1),\n",
       " ('watch', 1),\n",
       " ('update', 1),\n",
       " ('modern', 1),\n",
       " ('browsers', 1),\n",
       " ('support', 1),\n",
       " ('extensions', 1),\n",
       " ('script', 1),\n",
       " ('website', 1),\n",
       " ('like', 1),\n",
       " ('systems', 1),\n",
       " ('include', 1),\n",
       " ('wc', 1),\n",
       " ('thus', 1),\n",
       " ('jane', 1),\n",
       " ('quality', 1),\n",
       " ('tremendously', 1),\n",
       " ('typically', 1),\n",
       " ('writing', 1),\n",
       " ('month', 1),\n",
       " ('no', 1),\n",
       " ('boundary', 1),\n",
       " ('novella', 1),\n",
       " ('work', 1),\n",
       " ('large', 1),\n",
       " ('extent', 1),\n",
       " ('subgenre', 1),\n",
       " ('chapter', 1),\n",
       " ('books', 1),\n",
       " ('start', 1),\n",
       " ('typical', 1),\n",
       " ('mystery', 1),\n",
       " ('thriller', 1),\n",
       " ('science', 1),\n",
       " ('america', 1),\n",
       " ('category', 1),\n",
       " ('award', 1),\n",
       " ('classification', 1),\n",
       " ('academic', 1),\n",
       " ('dependent', 1),\n",
       " ('predominantly', 1),\n",
       " ('subject', 1),\n",
       " ('ph.d.', 1),\n",
       " ('dissertations', 1),\n",
       " ('exceeding', 1),\n",
       " ('encyclopedia', 1),\n",
       " ('passage', 1),\n",
       " ('required', 1),\n",
       " ('stay', 1),\n",
       " ('within', 1),\n",
       " ('case', 1),\n",
       " ('academia', 1),\n",
       " ('proceedings', 1),\n",
       " ('journalism', 1),\n",
       " ('advertising', 1),\n",
       " ('commonly', 1),\n",
       " ('translators', 1),\n",
       " ('determine', 1),\n",
       " ('translation', 1),\n",
       " ('measures', 1),\n",
       " ('reading', 1),\n",
       " ('minute', 1),\n",
       " ('five', 1),\n",
       " ('six', 1),\n",
       " ('see', 1),\n",
       " ('does', 1),\n",
       " ('cite', 1),\n",
       " ('please', 1),\n",
       " ('adding', 1),\n",
       " ('citations', 1),\n",
       " ('reliable', 1),\n",
       " ('unsourced', 1),\n",
       " ('challenged', 1),\n",
       " ('what', 1),\n",
       " ('since', 1),\n",
       " ('hence', 1),\n",
       " ('bottom', 1),\n",
       " ('accept', 1),\n",
       " ('found', 1),\n",
       " ('including', 1),\n",
       " ('boundaries', 1),\n",
       " ('first', 1),\n",
       " ('trait', 1),\n",
       " ('various', 1),\n",
       " ('tab', 1),\n",
       " ('hyphen', 1),\n",
       " ('too', 1),\n",
       " ('whether', 1),\n",
       " ('outside', 1),\n",
       " ('main', 1),\n",
       " ('text)', 1),\n",
       " ('broadly', 1),\n",
       " ('done', 1),\n",
       " ('typewriters', 1),\n",
       " ('todays', 1),\n",
       " ('importantly', 1),\n",
       " ('drilled', 1),\n",
       " ('articles', 1),\n",
       " ('conjunctions', 1),\n",
       " ('some', 1),\n",
       " ('prepositions', 1),\n",
       " ('hyphenated', 1),\n",
       " ('compounds', 1),\n",
       " ('follow', 1),\n",
       " ('one', 1),\n",
       " ('time', 1),\n",
       " ('effort', 1),\n",
       " ('average', 1),\n",
       " ('fallen', 1),\n",
       " ('wayside', 1),\n",
       " ('mentioned', 1),\n",
       " ('standard', 1),\n",
       " ('largely', 1),\n",
       " ('across', 1),\n",
       " ('fast', 1),\n",
       " ('effortless', 1),\n",
       " ('costless', 1),\n",
       " ('included', 1),\n",
       " ('application', 1),\n",
       " ('tables', 1),\n",
       " ('teacher', 1),\n",
       " ('client', 1),\n",
       " ('define', 1),\n",
       " ('their', 1),\n",
       " ('choice', 1),\n",
       " ('users', 1),\n",
       " ('workers', 1),\n",
       " ('simply', 1),\n",
       " ('exclude', 1),\n",
       " ('elements', 1),\n",
       " ('accordingly', 1),\n",
       " ('automatically', 1),\n",
       " ('web', 1),\n",
       " ('javascript', 1),\n",
       " ('bookmarklet', 1),\n",
       " ('hosted', 1),\n",
       " ('processors', 1),\n",
       " ('unix', 1),\n",
       " ('program', 1),\n",
       " ('specifically', 1),\n",
       " ('explained', 1),\n",
       " ('exact', 1),\n",
       " ('strict', 1),\n",
       " ('requirement', 1),\n",
       " ('variation', 1),\n",
       " ('novelist', 1),\n",
       " ('suggests', 1),\n",
       " ('important', 1),\n",
       " ('being', 1),\n",
       " ('national', 1),\n",
       " ('requires', 1),\n",
       " ('least', 1),\n",
       " ('firm', 1),\n",
       " ('arbitrary', 1),\n",
       " ('literary', 1),\n",
       " ('difficult', 1),\n",
       " ('categorise', 1),\n",
       " ('writer', 1),\n",
       " ('children', 1),\n",
       " ('about', 1),\n",
       " ('might', 1),\n",
       " ('range', 1),\n",
       " ('could', 1),\n",
       " ('over', 1),\n",
       " ('fantasy', 1),\n",
       " ('writers', 1),\n",
       " ('specifies', 1),\n",
       " ('each', 1),\n",
       " ('nebula', 1),\n",
       " ('categories', 1),\n",
       " ('dissertation', 1),\n",
       " ('varies', 1),\n",
       " ('greatly', 1),\n",
       " ('numerous', 1),\n",
       " ('american', 1),\n",
       " ('universities', 1),\n",
       " ('barring', 1),\n",
       " ('special', 1),\n",
       " ('permission', 1)]"
      ]
     },
     "execution_count": 23,
     "metadata": {},
     "output_type": "execute_result"
    }
   ],
   "source": [
    "words_frequencyS = words_frequency.sortBy(lambda x: x[1], ascending = False)\n",
    "words_frequencyS.collect()"
   ]
  },
  {
   "cell_type": "markdown",
   "id": "a591227a",
   "metadata": {},
   "source": [
    "Możemy zobaczyć, że najcześciej, czyli 43 razy, występowało w tekście słowo 'the'."
   ]
  },
  {
   "cell_type": "markdown",
   "id": "2fa3678c",
   "metadata": {},
   "source": [
    "# Autor: Przemysław Robak"
   ]
  }
 ],
 "metadata": {
  "kernelspec": {
   "display_name": "Python 3 (ipykernel)",
   "language": "python",
   "name": "python3"
  },
  "language_info": {
   "codemirror_mode": {
    "name": "ipython",
    "version": 3
   },
   "file_extension": ".py",
   "mimetype": "text/x-python",
   "name": "python",
   "nbconvert_exporter": "python",
   "pygments_lexer": "ipython3",
   "version": "3.9.7"
  }
 },
 "nbformat": 4,
 "nbformat_minor": 5
}
